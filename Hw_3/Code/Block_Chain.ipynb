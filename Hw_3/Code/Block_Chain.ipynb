{
  "cells": [
    {
      "cell_type": "code",
      "execution_count": 1,
      "metadata": {
        "id": "Tat6sdjTEPPI"
      },
      "outputs": [],
      "source": [
        "from hashlib import sha256\n",
        "import json"
      ]
    },
    {
      "cell_type": "code",
      "source": [
        "def read_ledger(i):\n",
        "  f = open(f'Ledgers/Ledger_Number{i}.json')\n",
        "  x = json.load(f)\n",
        "  return x"
      ],
      "metadata": {
        "id": "g-iTIMg5FPb-"
      },
      "execution_count": 2,
      "outputs": []
    },
    {
      "cell_type": "code",
      "source": [
        "def read_math_problem(i):\n",
        "  f = open(f'Math_Problems/Math_Problem_Number{i}.json')\n",
        "  x = json.load(f)['mathProblem']\n",
        "  return x"
      ],
      "metadata": {
        "id": "BTAVFQAPJSW4"
      },
      "execution_count": 3,
      "outputs": []
    },
    {
      "cell_type": "code",
      "source": [
        "def read_genesis():\n",
        "  f = open('GenesisBlock/GenesisBlock.json')\n",
        "  x = json.load(f)\n",
        "  return x"
      ],
      "metadata": {
        "id": "BZVkvLi2-UrM"
      },
      "execution_count": 4,
      "outputs": []
    },
    {
      "cell_type": "code",
      "source": [
        "class Block:\n",
        "  def make_hash(self,i):\n",
        "    hash_string = ''\n",
        "    ledger = read_ledger(i)\n",
        "    math_problem = read_math_problem(i)\n",
        "\n",
        "    for key in ledger.keys():\n",
        "      hash_string += str(ledger[key])\n",
        "\n",
        "    hash_string += self.prev_hash\n",
        "    nonce = 0\n",
        "\n",
        "    while(True):\n",
        "      testing_hash = hash_string + str(nonce)\n",
        "      final_hash = sha256(testing_hash.encode()).hexdigest()\n",
        "\n",
        "      if final_hash[64 - len(math_problem):] == math_problem:\n",
        "        print(f\"Block Number: {i}, Block Hash: {final_hash}, Hash Previous: {self.prev_hash}, Nonce Value: {nonce}\")\n",
        "        return nonce, final_hash\n",
        "      else :\n",
        "        nonce +=1\n",
        "\n",
        "  def __init__(self, prev_block, block_number):\n",
        "    self.block_number = block_number\n",
        "\n",
        "    if block_number == 1:\n",
        "      self.nonce = None\n",
        "      self.prev_hash = None\n",
        "      self.transaction_detail = None\n",
        "      self.hash = sha256(str(read_genesis()).encode()).hexdigest()\n",
        "\n",
        "    else:\n",
        "      self.prev_hash = prev_block.hash\n",
        "      self.nonce , self.hash = self.make_hash(i)\n",
        "      self.transaction_detail = read_ledger(i)\n",
        "  "
      ],
      "metadata": {
        "id": "tsn1Ja-ZL_jv"
      },
      "execution_count": 7,
      "outputs": []
    },
    {
      "cell_type": "code",
      "source": [
        "Block_Chain = [i for i in range(0,17)]\n",
        "first_block = Block(None,1)\n",
        "Block_Chain[1] = first_block\n",
        "\n",
        "for i in range(2,16+1):\n",
        "    block = Block(Block_Chain[i-1],i)\n",
        "    Block_Chain[i] = block"
      ],
      "metadata": {
        "colab": {
          "base_uri": "https://localhost:8080/"
        },
        "id": "lgVN-m-eMnh_",
        "outputId": "6d64de28-b72e-40f7-9cdf-3624208b8598"
      },
      "execution_count": 8,
      "outputs": [
        {
          "output_type": "stream",
          "name": "stdout",
          "text": [
            "Block Number: 2, Block Hash: 2b8ddf327a7d065350f54b2856a123d31e0f6a752c588039db2a285b8bd72878, Hash Previous: fca584d06862d565797172e6864581f9e8dd497450ffb747e008d9a5e7333c2f, Nonce Value: 82098\n",
            "Block Number: 3, Block Hash: d7bd2839b753d7decaf648ffa427a9511cfd283577b314e7631c7fe485dc62e8, Hash Previous: 2b8ddf327a7d065350f54b2856a123d31e0f6a752c588039db2a285b8bd72878, Nonce Value: 60215\n",
            "Block Number: 4, Block Hash: 4e53493f56295a88613e22b8ec61c0f0f05efbde51cbfa6521fc6bd89cbc51b5, Hash Previous: d7bd2839b753d7decaf648ffa427a9511cfd283577b314e7631c7fe485dc62e8, Nonce Value: 278045\n",
            "Block Number: 5, Block Hash: 19c2541bc287961728d66c38692d233f961014f47834fe2dc6aa39cde218a8c8, Hash Previous: 4e53493f56295a88613e22b8ec61c0f0f05efbde51cbfa6521fc6bd89cbc51b5, Nonce Value: 141253\n",
            "Block Number: 6, Block Hash: 1611148f2aa763e2d7f9d58245d850a4dae9f17898a5c8d4cff4127ea0bb1882, Hash Previous: 19c2541bc287961728d66c38692d233f961014f47834fe2dc6aa39cde218a8c8, Nonce Value: 108558\n",
            "Block Number: 7, Block Hash: 9e10fc30c7ae3c2118f1d9db61f2bbb9e6c74a64e21d093a9adac8d308bb5915, Hash Previous: 1611148f2aa763e2d7f9d58245d850a4dae9f17898a5c8d4cff4127ea0bb1882, Nonce Value: 237115\n",
            "Block Number: 8, Block Hash: bcc5f23610a27aeff7d639c2dbec9c4455cd50ccf75e1b1a18ec27a5a7f78888, Hash Previous: 9e10fc30c7ae3c2118f1d9db61f2bbb9e6c74a64e21d093a9adac8d308bb5915, Nonce Value: 61922\n",
            "Block Number: 9, Block Hash: 825e67787ff9750f261b4b14b717a4b221127158d66e09b75f3f208a6bf2393a, Hash Previous: bcc5f23610a27aeff7d639c2dbec9c4455cd50ccf75e1b1a18ec27a5a7f78888, Nonce Value: 96730\n",
            "Block Number: 10, Block Hash: 3c77b506bac06b9adf8b08eb0148a82388df211ce299556f6ab1cfb614721000, Hash Previous: 825e67787ff9750f261b4b14b717a4b221127158d66e09b75f3f208a6bf2393a, Nonce Value: 59277\n",
            "Block Number: 11, Block Hash: 31e5b08c366f0bc6543f34da61ac0a35529ae47922aa550432a59a3021079998, Hash Previous: 3c77b506bac06b9adf8b08eb0148a82388df211ce299556f6ab1cfb614721000, Nonce Value: 38255\n",
            "Block Number: 12, Block Hash: 983092b8879959f3c921ecddf7ed086a99d3ecda5b232b4142da6ad9945e513f, Hash Previous: 31e5b08c366f0bc6543f34da61ac0a35529ae47922aa550432a59a3021079998, Nonce Value: 65547\n",
            "Block Number: 13, Block Hash: b871f04567513f2deac77d3d19219e3267747b746ab4c7fb9fe47ca61e038ccb, Hash Previous: 983092b8879959f3c921ecddf7ed086a99d3ecda5b232b4142da6ad9945e513f, Nonce Value: 18158\n",
            "Block Number: 14, Block Hash: fbdb60640cd34935ddd8e7d62aa0658cc6c85f9a42ad229ac4f0ee8f3f175291, Hash Previous: b871f04567513f2deac77d3d19219e3267747b746ab4c7fb9fe47ca61e038ccb, Nonce Value: 109359\n",
            "Block Number: 15, Block Hash: 0b97edb40ce32297fd49ceb9c90ed4c17c358aa1dae49db990d8b4901a642e41, Hash Previous: fbdb60640cd34935ddd8e7d62aa0658cc6c85f9a42ad229ac4f0ee8f3f175291, Nonce Value: 5430\n",
            "Block Number: 16, Block Hash: 30c42d0d449b02fcc54d5ea9e91e0f40ab5d5b70cb4630bb37738372450cddd9, Hash Previous: 0b97edb40ce32297fd49ceb9c90ed4c17c358aa1dae49db990d8b4901a642e41, Nonce Value: 344267601\n"
          ]
        }
      ]
    }
  ],
  "metadata": {
    "colab": {
      "name": "Block Chain.ipynb",
      "provenance": [],
      "collapsed_sections": []
    },
    "kernelspec": {
      "name": "python3",
      "display_name": "Python 3"
    },
    "language_info": {
      "name": "python"
    }
  },
  "nbformat": 4,
  "nbformat_minor": 0
}