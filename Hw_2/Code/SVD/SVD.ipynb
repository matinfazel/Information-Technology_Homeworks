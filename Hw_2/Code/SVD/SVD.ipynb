{
 "cells": [
  {
   "cell_type": "markdown",
   "id": "27afc1dd-e18d-4d03-b116-46034e557013",
   "metadata": {},
   "source": [
    "Importing Libraries"
   ]
  },
  {
   "cell_type": "code",
   "execution_count": null,
   "id": "e8ee6f3b-478a-4db5-aa26-5552b343ae14",
   "metadata": {},
   "outputs": [],
   "source": [
    "from surprise import SVD\n",
    "from surprise import Dataset\n",
    "from surprise import accuracy\n",
    "from surprise.model_selection import train_test_split\n",
    "from surprise.model_selection import cross_validate"
   ]
  },
  {
   "cell_type": "markdown",
   "id": "c473e9a5-b2cf-4deb-bc92-f2d34d45e464",
   "metadata": {},
   "source": [
    "Load Data Set"
   ]
  },
  {
   "cell_type": "code",
   "execution_count": 2,
   "id": "dc0328ed-e89a-4af0-9ebd-5518d9bee9cd",
   "metadata": {},
   "outputs": [],
   "source": [
    "data = Dataset.load_builtin('ml-100k')"
   ]
  },
  {
   "cell_type": "markdown",
   "id": "e7dbeb4e-a0cb-4c46-a15c-5750d401fa86",
   "metadata": {},
   "source": [
    "Split Data Set"
   ]
  },
  {
   "cell_type": "markdown",
   "id": "a96a3bb7-9dbf-40c4-b92a-cf19d6355673",
   "metadata": {},
   "source": [
    "trainset, testset = train_test_split(data, test_size=.25)"
   ]
  },
  {
   "cell_type": "code",
   "execution_count": 4,
   "id": "d524df82-4726-4886-886c-c9617a12bc57",
   "metadata": {},
   "outputs": [],
   "source": [
    "algo = SVD()"
   ]
  },
  {
   "cell_type": "markdown",
   "id": "2a2f9c0d-a7f3-4d40-8bfc-9d9779d9f746",
   "metadata": {},
   "source": [
    "Training Algorithm"
   ]
  },
  {
   "cell_type": "code",
   "execution_count": 5,
   "id": "52559849-0215-4641-ba3b-a4ad1fe6e23e",
   "metadata": {},
   "outputs": [],
   "source": [
    "algo.fit(trainset)\n",
    "predictions = algo.test(testset)"
   ]
  },
  {
   "cell_type": "code",
   "execution_count": 25,
   "id": "f5b9e1cb-bc16-4582-ae2e-c9357baa4917",
   "metadata": {},
   "outputs": [
    {
     "name": "stdout",
     "output_type": "stream",
     "text": [
      "RMSE: 0.9367\n"
     ]
    },
    {
     "data": {
      "text/plain": [
       "0.9366724493557702"
      ]
     },
     "execution_count": 25,
     "metadata": {},
     "output_type": "execute_result"
    }
   ],
   "source": [
    "accuracy.rmse(predictions)"
   ]
  },
  {
   "cell_type": "code",
   "execution_count": 26,
   "id": "1e19cd56-4124-4b6d-a8f2-e05c4ca4447c",
   "metadata": {},
   "outputs": [
    {
     "name": "stdout",
     "output_type": "stream",
     "text": [
      "MAE:  0.7395\n"
     ]
    },
    {
     "data": {
      "text/plain": [
       "0.7394547452192272"
      ]
     },
     "execution_count": 26,
     "metadata": {},
     "output_type": "execute_result"
    }
   ],
   "source": [
    "accuracy.mae(predictions)"
   ]
  },
  {
   "cell_type": "code",
   "execution_count": 6,
   "id": "4d57b150-d004-46b4-ae73-a6e3ccc905a3",
   "metadata": {},
   "outputs": [
    {
     "name": "stdout",
     "output_type": "stream",
     "text": [
      "Evaluating RMSE, MAE of algorithm SVD on 3 split(s).\n",
      "\n",
      "                  Fold 1  Fold 2  Fold 3  Mean    Std     \n",
      "RMSE (testset)    0.9471  0.9480  0.9397  0.9449  0.0037  \n",
      "MAE (testset)     0.7479  0.7468  0.7417  0.7455  0.0027  \n",
      "Fit time          3.41    3.83    3.61    3.62    0.17    \n",
      "Test time         0.24    0.27    0.25    0.26    0.01    \n"
     ]
    },
    {
     "data": {
      "text/plain": [
       "{'test_rmse': array([0.9470773 , 0.94798217, 0.9397161 ]),\n",
       " 'test_mae': array([0.74792546, 0.74683363, 0.74171058]),\n",
       " 'fit_time': (3.4121198654174805, 3.831012487411499, 3.605773448944092),\n",
       " 'test_time': (0.24201250076293945, 0.27477264404296875, 0.2483832836151123)}"
      ]
     },
     "execution_count": 6,
     "metadata": {},
     "output_type": "execute_result"
    }
   ],
   "source": [
    "cross_validate(algo, data, measures=['RMSE', 'MAE'], cv=3, verbose=True)"
   ]
  },
  {
   "cell_type": "code",
   "execution_count": 7,
   "id": "430c6ae3-1b35-42a6-9e4e-017759292dee",
   "metadata": {},
   "outputs": [
    {
     "name": "stdout",
     "output_type": "stream",
     "text": [
      "user: 196        item: 302        r_ui = 4.00   est = 4.23   {'was_impossible': False}\n"
     ]
    }
   ],
   "source": [
    "uid = str(196)\n",
    "iid = str(302)\n",
    "\n",
    "pred = algo.predict(uid, iid, r_ui=4, verbose=True)"
   ]
  }
 ],
 "metadata": {
  "kernelspec": {
   "display_name": "Python 3 (ipykernel)",
   "language": "python",
   "name": "python3"
  },
  "language_info": {
   "codemirror_mode": {
    "name": "ipython",
    "version": 3
   },
   "file_extension": ".py",
   "mimetype": "text/x-python",
   "name": "python",
   "nbconvert_exporter": "python",
   "pygments_lexer": "ipython3",
   "version": "3.9.6"
  }
 },
 "nbformat": 4,
 "nbformat_minor": 5
}
