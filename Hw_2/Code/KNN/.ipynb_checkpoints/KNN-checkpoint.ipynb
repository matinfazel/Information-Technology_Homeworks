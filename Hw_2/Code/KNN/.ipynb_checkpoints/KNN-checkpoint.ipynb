{
 "cells": [
  {
   "cell_type": "markdown",
   "id": "5ab5c4b0-92ea-4a8a-9e89-586b5341d8b3",
   "metadata": {},
   "source": [
    "Importing Libraries"
   ]
  },
  {
   "cell_type": "code",
   "execution_count": 1,
   "id": "190fd1c9-6d50-4272-a40a-1eff2d9bdeda",
   "metadata": {},
   "outputs": [],
   "source": [
    "from surprise import KNNBasic\n",
    "from surprise import Dataset\n",
    "from surprise import accuracy\n",
    "from surprise.model_selection import cross_validate\n",
    "from surprise.model_selection import train_test_split"
   ]
  },
  {
   "cell_type": "markdown",
   "id": "ceac9ce5-4a8f-43d2-904f-17f42a8b3762",
   "metadata": {},
   "source": [
    "Load Data Set"
   ]
  },
  {
   "cell_type": "code",
   "execution_count": 2,
   "id": "faeb335f-ea37-450a-9cd7-a0e378ad7807",
   "metadata": {},
   "outputs": [],
   "source": [
    "data = Dataset.load_builtin('ml-100k')"
   ]
  },
  {
   "cell_type": "markdown",
   "id": "739b2510-5655-44a4-8ae0-799dfbb5411e",
   "metadata": {},
   "source": [
    "Split Data Set"
   ]
  },
  {
   "cell_type": "code",
   "execution_count": 3,
   "id": "3f4916e1-f1a6-4728-98b4-b177c4fba613",
   "metadata": {},
   "outputs": [],
   "source": [
    "trainset, testset = train_test_split(data, test_size=.25)"
   ]
  },
  {
   "cell_type": "code",
   "execution_count": 4,
   "id": "16cca8d6-768e-4275-b736-5863d4bb5e33",
   "metadata": {},
   "outputs": [],
   "source": [
    "algo = KNNBasic()"
   ]
  },
  {
   "cell_type": "markdown",
   "id": "8e08a36a-5d8a-4bce-bb64-346c7070967f",
   "metadata": {},
   "source": [
    "Training Algorithm"
   ]
  },
  {
   "cell_type": "code",
   "execution_count": 5,
   "id": "a6778510-c36f-4c06-b30e-066974c3a3f6",
   "metadata": {},
   "outputs": [
    {
     "name": "stdout",
     "output_type": "stream",
     "text": [
      "Computing the msd similarity matrix...\n",
      "Done computing similarity matrix.\n"
     ]
    }
   ],
   "source": [
    "algo.fit(trainset)\n",
    "predictions = algo.test(testset)"
   ]
  },
  {
   "cell_type": "code",
   "execution_count": 6,
   "id": "d3c46bdc-dde0-457e-9882-db9fd3b7aa2f",
   "metadata": {},
   "outputs": [
    {
     "name": "stdout",
     "output_type": "stream",
     "text": [
      "RMSE: 0.9856\n"
     ]
    },
    {
     "data": {
      "text/plain": [
       "0.9855964692636551"
      ]
     },
     "execution_count": 6,
     "metadata": {},
     "output_type": "execute_result"
    }
   ],
   "source": [
    "accuracy.rmse(predictions)"
   ]
  },
  {
   "cell_type": "code",
   "execution_count": 7,
   "id": "62e09737-5019-406c-8cb3-72714fd3e1e5",
   "metadata": {},
   "outputs": [
    {
     "name": "stdout",
     "output_type": "stream",
     "text": [
      "MAE:  0.7810\n"
     ]
    },
    {
     "data": {
      "text/plain": [
       "0.7810433757622774"
      ]
     },
     "execution_count": 7,
     "metadata": {},
     "output_type": "execute_result"
    }
   ],
   "source": [
    "accuracy.mae(predictions)"
   ]
  },
  {
   "cell_type": "code",
   "execution_count": 7,
   "id": "24baeaad-49f1-4f4d-bcc3-bfd80654dfd8",
   "metadata": {},
   "outputs": [
    {
     "name": "stdout",
     "output_type": "stream",
     "text": [
      "Computing the msd similarity matrix...\n",
      "Done computing similarity matrix.\n",
      "Computing the msd similarity matrix...\n",
      "Done computing similarity matrix.\n",
      "Computing the msd similarity matrix...\n",
      "Done computing similarity matrix.\n",
      "Computing the msd similarity matrix...\n",
      "Done computing similarity matrix.\n",
      "Computing the msd similarity matrix...\n",
      "Done computing similarity matrix.\n",
      "Evaluating RMSE, MAE of algorithm KNNBasic on 5 split(s).\n",
      "\n",
      "                  Fold 1  Fold 2  Fold 3  Fold 4  Fold 5  Mean    Std     \n",
      "RMSE (testset)    0.9787  0.9731  0.9839  0.9776  0.9831  0.9793  0.0039  \n",
      "MAE (testset)     0.7729  0.7693  0.7780  0.7706  0.7769  0.7735  0.0034  \n",
      "Fit time          0.45    0.52    0.50    0.58    0.52    0.51    0.04    \n",
      "Test time         2.63    2.55    2.69    2.90    2.78    2.71    0.12    \n"
     ]
    },
    {
     "data": {
      "text/plain": [
       "{'test_rmse': array([0.97869659, 0.97312619, 0.98385286, 0.97761068, 0.98306202]),\n",
       " 'test_mae': array([0.77285296, 0.76926064, 0.77795752, 0.77061322, 0.77691473]),\n",
       " 'fit_time': (0.44580674171447754,\n",
       "  0.5165762901306152,\n",
       "  0.49567580223083496,\n",
       "  0.5824160575866699,\n",
       "  0.5196964740753174),\n",
       " 'test_time': (2.6330032348632812,\n",
       "  2.5455472469329834,\n",
       "  2.6861801147460938,\n",
       "  2.9012866020202637,\n",
       "  2.7836101055145264)}"
      ]
     },
     "execution_count": 7,
     "metadata": {},
     "output_type": "execute_result"
    }
   ],
   "source": [
    "cross_validate(algo, data, measures=['RMSE', 'MAE'], cv=5, verbose=True)"
   ]
  },
  {
   "cell_type": "code",
   "execution_count": 8,
   "id": "0ca44a82-4d18-4733-bfda-7fdebd2fd85e",
   "metadata": {},
   "outputs": [
    {
     "name": "stdout",
     "output_type": "stream",
     "text": [
      "user: 196        item: 302        r_ui = 4.00   est = 4.05   {'actual_k': 40, 'was_impossible': False}\n"
     ]
    }
   ],
   "source": [
    "uid = str(196)\n",
    "iid = str(302)\n",
    "\n",
    "pred = algo.predict(uid, iid, r_ui=4, verbose=True)"
   ]
  }
 ],
 "metadata": {
  "kernelspec": {
   "display_name": "Python 3 (ipykernel)",
   "language": "python",
   "name": "python3"
  },
  "language_info": {
   "codemirror_mode": {
    "name": "ipython",
    "version": 3
   },
   "file_extension": ".py",
   "mimetype": "text/x-python",
   "name": "python",
   "nbconvert_exporter": "python",
   "pygments_lexer": "ipython3",
   "version": "3.9.6"
  }
 },
 "nbformat": 4,
 "nbformat_minor": 5
}
